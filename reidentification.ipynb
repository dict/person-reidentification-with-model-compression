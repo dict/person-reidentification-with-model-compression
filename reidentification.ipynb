{
 "cells": [
  {
   "cell_type": "code",
   "execution_count": 3,
   "id": "a9e2f93a",
   "metadata": {},
   "outputs": [],
   "source": [
    "from moviepy.editor import *"
   ]
  },
  {
   "cell_type": "code",
   "execution_count": 4,
   "id": "9fb9b1ce",
   "metadata": {},
   "outputs": [],
   "source": [
    "import glob"
   ]
  },
  {
   "cell_type": "code",
   "execution_count": 38,
   "id": "c9b70d35",
   "metadata": {},
   "outputs": [],
   "source": [
    "fnames = sorted(glob.glob('vid_temp2/*'))"
   ]
  },
  {
   "cell_type": "code",
   "execution_count": 39,
   "id": "5fefee9c",
   "metadata": {},
   "outputs": [
    {
     "data": {
      "text/plain": [
       "['vid_temp2/output1.mp4',\n",
       " 'vid_temp2/output2_sr.mp4',\n",
       " 'vid_temp2/output3_sr.mp4']"
      ]
     },
     "execution_count": 39,
     "metadata": {},
     "output_type": "execute_result"
    }
   ],
   "source": [
    "fnames"
   ]
  },
  {
   "cell_type": "code",
   "execution_count": 40,
   "id": "bc68b968",
   "metadata": {},
   "outputs": [],
   "source": [
    "vids = [VideoFileClip(fname) for fname in fnames]"
   ]
  },
  {
   "cell_type": "code",
   "execution_count": 41,
   "id": "1bcd4d18",
   "metadata": {},
   "outputs": [],
   "source": [
    "audioclip = AudioFileClip('hja_audio.wav')\n",
    "#audioclip = AudioFileClip('vid_phw/phw_10s.mp4')"
   ]
  },
  {
   "cell_type": "code",
   "execution_count": 42,
   "id": "bba2a673",
   "metadata": {},
   "outputs": [],
   "source": [
    "new_audioclip = CompositeAudioClip([audioclip])"
   ]
  },
  {
   "cell_type": "code",
   "execution_count": 47,
   "id": "742d3369",
   "metadata": {},
   "outputs": [],
   "source": [
    "# sub clip 확인하고 싶을때\n",
    "#vids[0].subclip(0,1).ipython_display(width=300)"
   ]
  },
  {
   "cell_type": "code",
   "execution_count": null,
   "id": "1a419187",
   "metadata": {},
   "outputs": [],
   "source": []
  },
  {
   "cell_type": "code",
   "execution_count": 48,
   "id": "bb67c54d",
   "metadata": {},
   "outputs": [],
   "source": [
    "# sub clip crop해서 확인하고 싶을때\n",
    "#temp = vids[0].subclip(0,1).crop(x1=int(vids[0].size[0]/2 - 250), x2=int(vids[0].size[0]/2 + 250))\n",
    "#temp.ipython_display(width=300)"
   ]
  },
  {
   "cell_type": "code",
   "execution_count": 43,
   "id": "9f832841",
   "metadata": {},
   "outputs": [],
   "source": [
    "clips = clips_array([[v for v in vids]])"
   ]
  },
  {
   "cell_type": "code",
   "execution_count": null,
   "id": "3dd7a10a",
   "metadata": {},
   "outputs": [],
   "source": [
    "# crop해서 붙이고 싶을때\n",
    "#clips = clips_array([[v.crop(x1=int(vids[0].size[0]/2 - 300), x2=int(vids[0].size[0]/2 + 300)) for v in vids]])"
   ]
  },
  {
   "cell_type": "code",
   "execution_count": 44,
   "id": "d82d0fcf",
   "metadata": {},
   "outputs": [],
   "source": [
    "clips.audio = new_audioclip"
   ]
  },
  {
   "cell_type": "code",
   "execution_count": 45,
   "id": "5ca87908",
   "metadata": {},
   "outputs": [
    {
     "name": "stderr",
     "output_type": "stream",
     "text": [
      "chunk:   7% 102/1361 [00:00<00:01, 956.45it/s, now=None]"
     ]
    },
    {
     "name": "stdout",
     "output_type": "stream",
     "text": [
      "Moviepy - Building video temp_hja_sr.mp4.\n",
      "MoviePy - Writing audio in temp_hja_srTEMP_MPY_wvf_snd.mp3\n"
     ]
    },
    {
     "name": "stderr",
     "output_type": "stream",
     "text": [
      "t:   0% 2/1848 [00:00<01:45, 17.51it/s, now=None]         "
     ]
    },
    {
     "name": "stdout",
     "output_type": "stream",
     "text": [
      "MoviePy - Done.\n",
      "Moviepy - Writing video temp_hja_sr.mp4\n",
      "\n"
     ]
    },
    {
     "name": "stderr",
     "output_type": "stream",
     "text": [
      "                                                    \r"
     ]
    },
    {
     "name": "stdout",
     "output_type": "stream",
     "text": [
      "Moviepy - Done !\n",
      "Moviepy - video ready temp_hja_sr.mp4\n"
     ]
    }
   ],
   "source": [
    "clips.write_videofile(\"temp_hja_sr.mp4\")"
   ]
  },
  {
   "cell_type": "code",
   "execution_count": null,
   "id": "a509ade4",
   "metadata": {},
   "outputs": [],
   "source": []
  }
 ],
 "metadata": {
  "kernelspec": {
   "display_name": "Python 3 (ipykernel)",
   "language": "python",
   "name": "python3"
  },
  "language_info": {
   "codemirror_mode": {
    "name": "ipython",
    "version": 3
   },
   "file_extension": ".py",
   "mimetype": "text/x-python",
   "name": "python",
   "nbconvert_exporter": "python",
   "pygments_lexer": "ipython3",
   "version": "3.8.5"
  }
 },
 "nbformat": 4,
 "nbformat_minor": 5
}
