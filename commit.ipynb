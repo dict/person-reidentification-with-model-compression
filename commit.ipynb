{
 "cells": [
  {
   "cell_type": "code",
   "execution_count": 1,
   "id": "faced-allowance",
   "metadata": {},
   "outputs": [],
   "source": [
    "!git add ."
   ]
  },
  {
   "cell_type": "code",
   "execution_count": 2,
   "id": "brave-portable",
   "metadata": {},
   "outputs": [
    {
     "name": "stdout",
     "output_type": "stream",
     "text": [
      "[main 1f4601a] temp\r\n",
      " 3 files changed, 41 insertions(+)\r\n",
      " create mode 100644 .ipynb_checkpoints/commit-checkpoint.ipynb\r\n",
      " create mode 100644 0.txt\r\n",
      " create mode 100644 commit.ipynb\r\n"
     ]
    }
   ],
   "source": [
    "!git commit -m \"temp\""
   ]
  },
  {
   "cell_type": "code",
   "execution_count": 3,
   "id": "compatible-preparation",
   "metadata": {},
   "outputs": [
    {
     "name": "stdout",
     "output_type": "stream",
     "text": [
      "Counting objects: 6, done.\n",
      "Delta compression using up to 64 threads.\n",
      "Compressing objects: 100% (5/5), done.\n",
      "Writing objects: 100% (6/6), 759 bytes | 759.00 KiB/s, done.\n",
      "Total 6 (delta 0), reused 0 (delta 0)\n",
      "To github.com:dict/human-image-detection.git\n",
      "   4f0f201..1f4601a  main -> main\n"
     ]
    }
   ],
   "source": [
    "!touch 0.txt"
   ]
  },
  {
   "cell_type": "code",
   "execution_count": 9,
   "id": "compatible-recruitment",
   "metadata": {},
   "outputs": [],
   "source": [
    "import time"
   ]
  },
  {
   "cell_type": "code",
   "execution_count": null,
   "id": "diverse-butter",
   "metadata": {},
   "outputs": [
    {
     "name": "stdout",
     "output_type": "stream",
     "text": [
      "[main 3c98738] temp\n",
      " 1 file changed, 0 insertions(+), 0 deletions(-)\n",
      " rename 0.txt => 1.txt (100%)\n",
      "Counting objects: 2, done.\n",
      "Delta compression using up to 64 threads.\n",
      "Compressing objects: 100% (2/2), done.\n",
      "Writing objects: 100% (2/2), 211 bytes | 211.00 KiB/s, done.\n",
      "Total 2 (delta 1), reused 0 (delta 0)\n",
      "remote: Resolving deltas: 100% (1/1), completed with 1 local object.\u001b[K\n",
      "To github.com:dict/human-image-detection.git\n",
      "   4ecdac4..3c98738  main -> main\n",
      "[main 0ce7763] temp\n",
      " 1 file changed, 0 insertions(+), 0 deletions(-)\n",
      " rename 1.txt => 2.txt (100%)\n",
      "Counting objects: 2, done.\n",
      "Delta compression using up to 64 threads.\n",
      "Compressing objects: 100% (2/2), done.\n",
      "Writing objects: 100% (2/2), 211 bytes | 211.00 KiB/s, done.\n",
      "Total 2 (delta 1), reused 0 (delta 0)\n",
      "remote: Resolving deltas: 100% (1/1), completed with 1 local object.\u001b[K\n",
      "To github.com:dict/human-image-detection.git\n",
      "   3c98738..0ce7763  main -> main\n",
      "[main a99033a] temp\n",
      " 1 file changed, 0 insertions(+), 0 deletions(-)\n",
      " rename 2.txt => 3.txt (100%)\n",
      "Counting objects: 2, done.\n",
      "Delta compression using up to 64 threads.\n",
      "Compressing objects: 100% (2/2), done.\n",
      "Writing objects: 100% (2/2), 212 bytes | 212.00 KiB/s, done.\n",
      "Total 2 (delta 1), reused 0 (delta 0)\n",
      "remote: Resolving deltas: 100% (1/1), completed with 1 local object.\u001b[K\n",
      "To github.com:dict/human-image-detection.git\n",
      "   0ce7763..a99033a  main -> main\n"
     ]
    }
   ],
   "source": [
    "for idx in range(500):\n",
    "    time.sleep(1)\n",
    "    a = str(idx)+'.txt'\n",
    "    b = str(idx+1)+'.txt'\n",
    "    !mv $a $b\n",
    "    !git add .\n",
    "    !git commit -m \"temp\"\n",
    "    !git push origin main"
   ]
  },
  {
   "cell_type": "code",
   "execution_count": null,
   "id": "hourly-choice",
   "metadata": {},
   "outputs": [],
   "source": []
  }
 ],
 "metadata": {
  "kernelspec": {
   "display_name": "Python 3",
   "language": "python",
   "name": "python3"
  },
  "language_info": {
   "codemirror_mode": {
    "name": "ipython",
    "version": 3
   },
   "file_extension": ".py",
   "mimetype": "text/x-python",
   "name": "python",
   "nbconvert_exporter": "python",
   "pygments_lexer": "ipython3",
   "version": "3.8.5"
  }
 },
 "nbformat": 4,
 "nbformat_minor": 5
}
